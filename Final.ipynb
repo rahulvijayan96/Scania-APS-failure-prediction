{
 "cells": [
  {
   "cell_type": "code",
   "execution_count": 1,
   "id": "755d9af8",
   "metadata": {},
   "outputs": [],
   "source": [
    "import numpy as np\n",
    "import pandas as pd\n",
    "from sklearn.metrics import confusion_matrix\n",
    "import time\n",
    "import pickle\n",
    "import time\n",
    "from sklearn.neighbors import LocalOutlierFactor"
   ]
  },
  {
   "cell_type": "markdown",
   "id": "b5e4baa7",
   "metadata": {},
   "source": [
    "## Final_function - Returns prediction"
   ]
  },
  {
   "cell_type": "code",
   "execution_count": 2,
   "id": "eeeab8e1",
   "metadata": {},
   "outputs": [],
   "source": [
    "def final_function(X):\n",
    "    \n",
    "    mm          = pickle.load(open('mm_normalizer.pkl', 'rb'))\n",
    "    KNN_imputer = pickle.load(open('imputer_knn.pkl', 'rb'))\n",
    "    lof         = pickle.load(open('lof.pkl', 'rb'))\n",
    "    top_15      = pd.read_csv('top_15.csv')    \n",
    "    clf_best    = pickle.load(open('models//xgb.pkl', 'rb'))\n",
    "    \n",
    "    features_to_remove_1 = ['bq_000','br_000']\n",
    "    features_to_remove_2 = ['ah_000','am_0','an_000','ao_000','aq_000','ba_001','ba_002','ba_003','ba_004','ba_005','ba_006',\n",
    "                            'bb_000','bg_000','bh_000','bi_000','bj_000','bl_000','bm_000','bn_000','bo_000','bp_000','bt_000',\n",
    "                            'bu_000','bv_000','by_000','cc_000','cf_000','ci_000','cn_004','cn_005','co_000','cq_000','cs_005',\n",
    "                            'dc_000','dn_000','dp_000','dt_000','ed_000','ee_000','ee_001','ee_002','ee_003','ee_004']\n",
    "    \n",
    "    \n",
    "    X = X.replace('na',np.nan)\n",
    "    X = X.drop(features_to_remove_1,axis=1)\n",
    "    \n",
    "    \n",
    "    # NORMALIZING FOLLOWED BY MISSING VALUE IMPUTATION FOLLOWED BY REMOVING HIGHLY CORRELATED FEATURES\n",
    "    X_norm = pd.DataFrame(mm.transform(X),columns=X.columns)\n",
    "    X_imputed = pd.DataFrame(KNN_imputer.transform(X_norm),columns=X_norm.columns)\n",
    "    X_imputed = X_imputed.drop(features_to_remove_2,axis=1)\n",
    "    \n",
    "    \n",
    "    # FEATURE ENGINEERING\n",
    "    #1\n",
    "    null_count = X.isnull().sum(axis=1)\n",
    "    null_count = null_count.to_numpy()    \n",
    "    X_imputed['null_count'] = null_count\n",
    "    \n",
    "    #2\n",
    "    lof_feature= lof.predict(X_imputed)    \n",
    "    X_imputed['lof'] = lof_feature\n",
    "    \n",
    "    #3\n",
    "    quantiles = {}\n",
    "    for features in top_15['Features']:\n",
    "        quantiles[features] = np.percentile(X_imputed[features],[25,75])\n",
    "        \n",
    "    for feature in top_15['Features']:\n",
    "        feature_val = X_imputed[feature]\n",
    "        new_feature_25 = feature_val - quantiles[feature][0]\n",
    "        new_feature_75 = feature_val - quantiles[feature][1]            \n",
    "\n",
    "        X_imputed[feature+'_25'] = new_feature_25\n",
    "        X_imputed[feature+'_75'] = new_feature_75\n",
    "    \n",
    "    \n",
    "    ## BEST CLASSIFIER \n",
    "    y_pred_final = clf_best.predict(X_imputed)\n",
    "\n",
    "    return y_pred_final"
   ]
  },
  {
   "cell_type": "markdown",
   "id": "2500b499",
   "metadata": {},
   "source": [
    "## Performance Evaluation"
   ]
  },
  {
   "cell_type": "markdown",
   "id": "b51df852",
   "metadata": {},
   "source": [
    "### Importing Datapoints"
   ]
  },
  {
   "cell_type": "code",
   "execution_count": 3,
   "id": "ed162a3e",
   "metadata": {},
   "outputs": [],
   "source": [
    "positive_datapoint = pd.read_csv('positive_datapoint.csv',index_col=0)\n",
    "negative_datapoint = pd.read_csv('negative_datapoint.csv',index_col=0)"
   ]
  },
  {
   "cell_type": "code",
   "execution_count": 5,
   "id": "23cf94dd",
   "metadata": {},
   "outputs": [
    {
     "data": {
      "text/html": [
       "<div>\n",
       "<style scoped>\n",
       "    .dataframe tbody tr th:only-of-type {\n",
       "        vertical-align: middle;\n",
       "    }\n",
       "\n",
       "    .dataframe tbody tr th {\n",
       "        vertical-align: top;\n",
       "    }\n",
       "\n",
       "    .dataframe thead th {\n",
       "        text-align: right;\n",
       "    }\n",
       "</style>\n",
       "<table border=\"1\" class=\"dataframe\">\n",
       "  <thead>\n",
       "    <tr style=\"text-align: right;\">\n",
       "      <th></th>\n",
       "      <th>class</th>\n",
       "      <th>aa_000</th>\n",
       "      <th>ab_000</th>\n",
       "      <th>ac_000</th>\n",
       "      <th>ad_000</th>\n",
       "      <th>ae_000</th>\n",
       "      <th>af_000</th>\n",
       "      <th>ag_000</th>\n",
       "      <th>ag_001</th>\n",
       "      <th>ag_002</th>\n",
       "      <th>...</th>\n",
       "      <th>ee_002</th>\n",
       "      <th>ee_003</th>\n",
       "      <th>ee_004</th>\n",
       "      <th>ee_005</th>\n",
       "      <th>ee_006</th>\n",
       "      <th>ee_007</th>\n",
       "      <th>ee_008</th>\n",
       "      <th>ee_009</th>\n",
       "      <th>ef_000</th>\n",
       "      <th>eg_000</th>\n",
       "    </tr>\n",
       "  </thead>\n",
       "  <tbody>\n",
       "    <tr>\n",
       "      <th>0</th>\n",
       "      <td>1</td>\n",
       "      <td>72504</td>\n",
       "      <td>na</td>\n",
       "      <td>1594</td>\n",
       "      <td>1052</td>\n",
       "      <td>0</td>\n",
       "      <td>0</td>\n",
       "      <td>0</td>\n",
       "      <td>244</td>\n",
       "      <td>178226</td>\n",
       "      <td>...</td>\n",
       "      <td>1432098</td>\n",
       "      <td>372252</td>\n",
       "      <td>527514</td>\n",
       "      <td>358274</td>\n",
       "      <td>332818</td>\n",
       "      <td>284178</td>\n",
       "      <td>3742</td>\n",
       "      <td>0</td>\n",
       "      <td>0</td>\n",
       "      <td>0</td>\n",
       "    </tr>\n",
       "  </tbody>\n",
       "</table>\n",
       "<p>1 rows × 171 columns</p>\n",
       "</div>"
      ],
      "text/plain": [
       "   class  aa_000 ab_000  ac_000  ad_000  ae_000  af_000  ag_000  ag_001  \\\n",
       "0      1   72504     na    1594    1052       0       0       0     244   \n",
       "\n",
       "   ag_002  ...   ee_002  ee_003  ee_004  ee_005  ee_006  ee_007  ee_008  \\\n",
       "0  178226  ...  1432098  372252  527514  358274  332818  284178    3742   \n",
       "\n",
       "  ee_009 ef_000 eg_000  \n",
       "0      0      0      0  \n",
       "\n",
       "[1 rows x 171 columns]"
      ]
     },
     "execution_count": 5,
     "metadata": {},
     "output_type": "execute_result"
    }
   ],
   "source": [
    "positive_datapoint"
   ]
  },
  {
   "cell_type": "code",
   "execution_count": 6,
   "id": "bdf77811",
   "metadata": {},
   "outputs": [
    {
     "data": {
      "text/html": [
       "<div>\n",
       "<style scoped>\n",
       "    .dataframe tbody tr th:only-of-type {\n",
       "        vertical-align: middle;\n",
       "    }\n",
       "\n",
       "    .dataframe tbody tr th {\n",
       "        vertical-align: top;\n",
       "    }\n",
       "\n",
       "    .dataframe thead th {\n",
       "        text-align: right;\n",
       "    }\n",
       "</style>\n",
       "<table border=\"1\" class=\"dataframe\">\n",
       "  <thead>\n",
       "    <tr style=\"text-align: right;\">\n",
       "      <th></th>\n",
       "      <th>class</th>\n",
       "      <th>aa_000</th>\n",
       "      <th>ab_000</th>\n",
       "      <th>ac_000</th>\n",
       "      <th>ad_000</th>\n",
       "      <th>ae_000</th>\n",
       "      <th>af_000</th>\n",
       "      <th>ag_000</th>\n",
       "      <th>ag_001</th>\n",
       "      <th>ag_002</th>\n",
       "      <th>...</th>\n",
       "      <th>ee_002</th>\n",
       "      <th>ee_003</th>\n",
       "      <th>ee_004</th>\n",
       "      <th>ee_005</th>\n",
       "      <th>ee_006</th>\n",
       "      <th>ee_007</th>\n",
       "      <th>ee_008</th>\n",
       "      <th>ee_009</th>\n",
       "      <th>ef_000</th>\n",
       "      <th>eg_000</th>\n",
       "    </tr>\n",
       "  </thead>\n",
       "  <tbody>\n",
       "    <tr>\n",
       "      <th>0</th>\n",
       "      <td>0</td>\n",
       "      <td>76698</td>\n",
       "      <td>na</td>\n",
       "      <td>2130706438</td>\n",
       "      <td>280</td>\n",
       "      <td>0</td>\n",
       "      <td>0</td>\n",
       "      <td>0</td>\n",
       "      <td>0</td>\n",
       "      <td>0</td>\n",
       "      <td>...</td>\n",
       "      <td>1240520</td>\n",
       "      <td>493384</td>\n",
       "      <td>721044</td>\n",
       "      <td>469792</td>\n",
       "      <td>339156</td>\n",
       "      <td>157956</td>\n",
       "      <td>73224</td>\n",
       "      <td>0</td>\n",
       "      <td>0</td>\n",
       "      <td>0</td>\n",
       "    </tr>\n",
       "  </tbody>\n",
       "</table>\n",
       "<p>1 rows × 171 columns</p>\n",
       "</div>"
      ],
      "text/plain": [
       "   class  aa_000 ab_000      ac_000  ad_000  ae_000  af_000  ag_000  ag_001  \\\n",
       "0      0   76698     na  2130706438     280       0       0       0       0   \n",
       "\n",
       "   ag_002  ...   ee_002  ee_003  ee_004  ee_005  ee_006  ee_007  ee_008  \\\n",
       "0       0  ...  1240520  493384  721044  469792  339156  157956   73224   \n",
       "\n",
       "   ee_009  ef_000  eg_000  \n",
       "0       0       0       0  \n",
       "\n",
       "[1 rows x 171 columns]"
      ]
     },
     "execution_count": 6,
     "metadata": {},
     "output_type": "execute_result"
    }
   ],
   "source": [
    "negative_datapoint"
   ]
  },
  {
   "cell_type": "code",
   "execution_count": 7,
   "id": "9c2aa335",
   "metadata": {},
   "outputs": [],
   "source": [
    "positive_datapoint = positive_datapoint.drop(['class'],axis=1)\n",
    "negative_datapoint = negative_datapoint.drop(['class'],axis=1)"
   ]
  },
  {
   "cell_type": "markdown",
   "id": "bc1d81ac",
   "metadata": {},
   "source": [
    "### Checking Prediction for positive Datapoint"
   ]
  },
  {
   "cell_type": "code",
   "execution_count": 10,
   "id": "4cbadb9e",
   "metadata": {},
   "outputs": [
    {
     "name": "stdout",
     "output_type": "stream",
     "text": [
      "There is a failure in the APS system\n",
      "Runtime of the program is 0.41842079162597656\n"
     ]
    }
   ],
   "source": [
    "start = time.time()\n",
    "\n",
    "prediction = final_function(positive_datapoint)\n",
    "if prediction[0]==0:\n",
    "    print('Failure is not for the APS system')\n",
    "else:\n",
    "    print('There is a failure in the APS system')\n",
    "    \n",
    "end = time.time()\n",
    "print(f\"Runtime of the program is {end - start}\")"
   ]
  },
  {
   "cell_type": "markdown",
   "id": "c66a9370",
   "metadata": {},
   "source": [
    "### Checking Prediction for negative Datapoint"
   ]
  },
  {
   "cell_type": "code",
   "execution_count": 11,
   "id": "5a8e3343",
   "metadata": {},
   "outputs": [
    {
     "name": "stdout",
     "output_type": "stream",
     "text": [
      "Failure is not for the APS system\n",
      "Runtime of the program is 0.38103389739990234\n"
     ]
    }
   ],
   "source": [
    "start = time.time()\n",
    "\n",
    "prediction = final_function(negative_datapoint)\n",
    "if prediction[0]==0:\n",
    "    print('Failure is not for the APS system')\n",
    "else:\n",
    "    print('There is a failure in the APS system')\n",
    "    \n",
    "end = time.time()\n",
    "print(f\"Runtime of the program is {end - start}\")    "
   ]
  },
  {
   "cell_type": "code",
   "execution_count": null,
   "id": "555febcf",
   "metadata": {},
   "outputs": [],
   "source": []
  }
 ],
 "metadata": {
  "kernelspec": {
   "display_name": "gpu2",
   "language": "python",
   "name": "gpu2"
  },
  "language_info": {
   "codemirror_mode": {
    "name": "ipython",
    "version": 3
   },
   "file_extension": ".py",
   "mimetype": "text/x-python",
   "name": "python",
   "nbconvert_exporter": "python",
   "pygments_lexer": "ipython3",
   "version": "3.6.13"
  }
 },
 "nbformat": 4,
 "nbformat_minor": 5
}
