{
 "cells": [
  {
   "cell_type": "code",
   "execution_count": 1,
   "id": "c17c1f56",
   "metadata": {},
   "outputs": [],
   "source": [
    "import numpy as np\n",
    "import pandas as pd\n",
    "import pickle\n",
    "import matplotlib.pyplot as plt\n",
    "import seaborn as sns\n",
    "from tqdm import tqdm\n",
    "import warnings\n",
    "warnings.filterwarnings('ignore')\n",
    "\n",
    "from sklearn.preprocessing import MinMaxScaler\n",
    "from sklearn.linear_model import BayesianRidge\n",
    "from sklearn.ensemble import RandomForestClassifier\n",
    "from sklearn.metrics import accuracy_score,f1_score,confusion_matrix\n",
    "\n",
    "from  sklearn.model_selection import train_test_split\n",
    "from sklearn.metrics import confusion_matrix,fbeta_score,roc_auc_score\n",
    "from sklearn.naive_bayes import GaussianNB\n",
    "from sklearn.linear_model import LogisticRegression\n",
    "import xgboost as xgb\n",
    "from sklearn.neighbors import KNeighborsClassifier\n",
    "from sklearn.model_selection import RandomizedSearchCV,GridSearchCV\n",
    "from sklearn.linear_model import SGDClassifier\n",
    "from sklearn.tree import DecisionTreeClassifier\n",
    "import random\n",
    "from random import choices\n",
    "from sklearn.metrics import fbeta_score, make_scorer"
   ]
  },
  {
   "cell_type": "code",
   "execution_count": 2,
   "id": "5f77bd64",
   "metadata": {},
   "outputs": [],
   "source": [
    "\n",
    "## F-Beta Score\n",
    "def F_Beta_score(test_y, predict_y):\n",
    "    FBScore = fbeta_score(test_y, predict_y,beta=2)\n",
    "    return FBScore\n",
    "\n",
    "## Total_cost\n",
    "def Cost(test_y, predict_y):\n",
    "    matrix = confusion_matrix(test_y, predict_y)\n",
    "    FP = matrix[0][1]\n",
    "    FN = matrix[1][0]\n",
    "    cost = FP*10 + FN*500\n",
    "    return cost\n",
    "\n",
    "# Function to plot confusion matrix in heatmaps\n",
    "def matrix_heatmaps(test_y, predict_y):\n",
    "    C = confusion_matrix(test_y, predict_y)\n",
    "    print(\"Percentage of misclassified points :\",(len(test_y)-np.trace(C))/len(test_y)*100)\n",
    "    \n",
    "    A =(((C.T)/(C.sum(axis=1))).T)\n",
    "    B =(C/C.sum(axis=0))\n",
    "    \n",
    "    labels = [0,1]\n",
    "    plt.figure(figsize=(20,5))\n",
    "    plt.subplot(1,3,1);\n",
    "    sns.heatmap(C, annot=True, fmt=\".3f\",cmap='Blues',xticklabels=labels, yticklabels=labels);\n",
    "    # labels, title and ticks\n",
    "    plt.xlabel('Predicted labels');\n",
    "    plt.ylabel('True labels'); \n",
    "    plt.title('Confusion Matrix');\n",
    "   \n",
    "    plt.subplot(1,3,2)\n",
    "    sns.heatmap(B, annot=True, fmt=\".3f\",cmap='Blues',xticklabels=labels, yticklabels=labels)\n",
    "    plt.xlabel('Predicted labels');\n",
    "    plt.ylabel('True labels'); \n",
    "    plt.title('Precision Matrix');\n",
    "\n",
    "    ax = plt.subplot(1,3,3)\n",
    "    sns.heatmap(A, annot=True, fmt=\".3f\",cmap='Blues',xticklabels=labels, yticklabels=labels)\n",
    "    plt.xlabel('Predicted labels');\n",
    "    plt.ylabel('True labels'); \n",
    "    plt.title('Recall Matrix');  "
   ]
  },
  {
   "cell_type": "markdown",
   "id": "f8b779ca",
   "metadata": {},
   "source": [
    "# Custom Stacking Classifier"
   ]
  },
  {
   "cell_type": "markdown",
   "id": "ee4f1ef2",
   "metadata": {},
   "source": [
    "#### Obtaining Train and testing (CV) dataset"
   ]
  },
  {
   "cell_type": "code",
   "execution_count": 3,
   "id": "dda29d51",
   "metadata": {},
   "outputs": [],
   "source": [
    "X = pd.read_csv('saves_2/X_train_oversampled.csv',index_col=0)\n",
    "Y = pd.read_csv('saves_2/Y_train_oversampled.csv',index_col=0).values.flatten()\n",
    "\n",
    "X_cv = pd.read_csv('saves_2//X_cv_eda.csv',index_col=0)\n",
    "X_cv = X_cv.reset_index(drop=True)\n",
    "Y_cv = pd.read_csv('saves_2//Y_cv_eda.csv',index_col=0).values.flatten()"
   ]
  },
  {
   "cell_type": "markdown",
   "id": "4d408d23",
   "metadata": {},
   "source": [
    "#### Splitting the Train Dataset to D1 and D2 with a 50% split"
   ]
  },
  {
   "cell_type": "code",
   "execution_count": 20,
   "id": "99b3eeda",
   "metadata": {
    "scrolled": true
   },
   "outputs": [
    {
     "name": "stdout",
     "output_type": "stream",
     "text": [
      "Shape of X_train: (94400, 157)\n",
      "Shape of X_cv   : (12000, 157)\n",
      "Shape of X_D1   : (47200, 157)\n",
      "Shape of X_D2   : (47200, 157)\n"
     ]
    }
   ],
   "source": [
    "def D1_D2_split(X,Y):\n",
    "    X_D1,X_D2,Y_D1,Y_D2 = train_test_split(X,Y,test_size=0.5,stratify=Y)\n",
    "    X_D1 = X_D1.reset_index(drop=True)\n",
    "    X_D2 = X_D2.reset_index(drop=True)\n",
    "\n",
    "    print('Shape of X_train:',X.shape)\n",
    "    print('Shape of X_cv   :',X_cv.shape)\n",
    "    print('Shape of X_D1   :',X_D1.shape)\n",
    "    print('Shape of X_D2   :',X_D2.shape)\n",
    "    \n",
    "    return X_D1,X_D2,Y_D1,Y_D2\n",
    "\n",
    "X_D1,X_D2,Y_D1,Y_D2 = D1_D2_split(X,Y)"
   ]
  },
  {
   "cell_type": "code",
   "execution_count": 155,
   "id": "ae965e28",
   "metadata": {},
   "outputs": [],
   "source": [
    "X.to_csv('saves3//X.csv')\n",
    "Y_df = pd.DataFrame(Y,columns=['Y'])\n",
    "Y_df.to_csv('saves3//Y.csv')\n",
    "\n",
    "X_D1.to_csv('saves3//X_D1.csv')\n",
    "X_D2.to_csv('saves3//X_D2.csv')\n",
    "Y_D1_df = pd.DataFrame(Y_D1,columns=['Y_D1'])\n",
    "Y_D1_df.to_csv('saves3//Y_D1.csv')\n",
    "Y_D2_df = pd.DataFrame(Y_D2,columns=['Y_D2'])\n",
    "Y_D2_df.to_csv('saves3//Y_D2.csv')"
   ]
  },
  {
   "cell_type": "markdown",
   "id": "ff6bac32",
   "metadata": {},
   "source": [
    "#### Generating 'K' samples by sampling with replacement from X_D1 with size of each sample being half of X_D1 "
   ]
  },
  {
   "cell_type": "code",
   "execution_count": 5,
   "id": "616352f0",
   "metadata": {},
   "outputs": [],
   "source": [
    "def samples_from_D1(X,Y,k):\n",
    "    \n",
    "    X_samples_list = []\n",
    "    Y_samples_list = []\n",
    "    \n",
    "    for i in range(k):\n",
    "        a = list(np.random.choice(len(X),round(0.5*len(X)),replace=True))\n",
    "        X_sample = X.iloc[a]\n",
    "        Y_sample = Y[a]\n",
    "        X_samples_list.append(X_sample)\n",
    "        Y_samples_list.append(Y_sample)\n",
    "        \n",
    "    return X_samples_list,Y_samples_list    "
   ]
  },
  {
   "cell_type": "markdown",
   "id": "cc0dbb9c",
   "metadata": {},
   "source": [
    "#### Training 'K' Base models on each of the 'K' samples"
   ]
  },
  {
   "cell_type": "markdown",
   "id": "983de67f",
   "metadata": {},
   "source": [
    "The base models used are Random Forest, XGBoost, Linear SVM and Logistic regression and KNN"
   ]
  },
  {
   "cell_type": "code",
   "execution_count": 6,
   "id": "89c77522",
   "metadata": {},
   "outputs": [],
   "source": [
    "\n",
    "def train_base_models(X,Y):\n",
    "    \n",
    "    model_list = []\n",
    "    count=0\n",
    "    for i in range(len(X)):\n",
    "        count+=1\n",
    "        if count == 1:\n",
    "            clf = RandomForestClassifier(n_estimators= 100,min_samples_leaf= 4,max_depth= 10,criterion= 'entropy',\n",
    "                                         n_jobs=-1,class_weight='balanced')\n",
    "            model = clf.fit(X[i],Y[i])\n",
    "            model_list.append(model)\n",
    "        if count == 2:\n",
    "            clf = xgb.XGBClassifier(subsample= 1,n_estimators= 100,max_depth =5,learning_rate= 0.1,colsample_bytree= 0.5,\n",
    "                                    eval_metric='logloss' )\n",
    "            model = clf.fit(X[i],Y[i])\n",
    "            model_list.append(model) \n",
    "        if count == 3:\n",
    "            clf = SGDClassifier(loss='hinge', alpha=0.001, class_weight = 'balanced', n_jobs=-1, random_state = 42)\n",
    "            model = clf.fit(X[i],Y[i])\n",
    "            model_list.append(model)\n",
    "        if count == 4:\n",
    "            clf = LogisticRegression(penalty='l2',C=1,class_weight='balanced')\n",
    "            model = clf.fit(X[i],Y[i])\n",
    "            model_list.append(model)  \n",
    "        if count == 5:\n",
    "            clf = KNeighborsClassifier()\n",
    "            model = clf.fit(X[i],Y[i])\n",
    "            model_list.append(model)\n",
    "  \n",
    "            count = 0\n",
    "            \n",
    "    return model_list"
   ]
  },
  {
   "cell_type": "markdown",
   "id": "b2c66255",
   "metadata": {},
   "source": [
    "#### Obtaining predictions from the 'K' base models for dataset X_D2"
   ]
  },
  {
   "cell_type": "code",
   "execution_count": 7,
   "id": "510f372c",
   "metadata": {},
   "outputs": [],
   "source": [
    "def prediction_from_base_models(model_list,X_D2):\n",
    "    \n",
    "    y_pred_list = []\n",
    "    \n",
    "    for model in model_list:\n",
    "        y_pred = model.predict(X_D2)\n",
    "        y_pred_list.append(y_pred)\n",
    "    return y_pred_list    "
   ]
  },
  {
   "cell_type": "markdown",
   "id": "320ce024",
   "metadata": {},
   "source": [
    "#### Hyper parameter tuning for the meta model"
   ]
  },
  {
   "cell_type": "code",
   "execution_count": 8,
   "id": "31e274b3",
   "metadata": {},
   "outputs": [],
   "source": [
    "def meta_model_hyperparam_tuning(X_D1,Y_D1,X_D2,Y_D2,k):\n",
    "    \n",
    "    X_samples_list,Y_samples_list = samples_from_D1(X_D1,Y_D1,k)\n",
    "    model_list = train_base_models(X_samples_list,Y_samples_list)\n",
    "    y_pred_list = prediction_from_base_models(model_list,X_D2)\n",
    "    \n",
    "    ## creating new dataset from 'k' predictions of D2\n",
    "    D_from_pred = np.array(y_pred_list).T\n",
    "    \n",
    "    # hyperparameter tuning of Meta Model \n",
    "    param = {'C' : [0.0001 , 0.001 , 0.01, 0.1 , 1, 10 , 100]}\n",
    "    \n",
    "    def false_negative(y_true, y_pred):\n",
    "        c = confusion_matrix(y_true, y_pred)\n",
    "        return c[1][0]\n",
    "    \n",
    "    clf_meta = LogisticRegression(penalty='l2',class_weight='balanced')\n",
    "    clf_meta_tuning = RandomizedSearchCV(estimator=clf_meta, param_distributions=param, \n",
    "                                    scoring=make_scorer(false_negative,greater_is_better=False), cv=3, n_jobs=-1)\n",
    "    \n",
    "    clf_meta_tuning.fit(D_from_pred,Y_D2)\n",
    "    print('best C :',clf_meta_tuning.best_params_['C'])\n",
    "    "
   ]
  },
  {
   "cell_type": "markdown",
   "id": "8c50100f",
   "metadata": {},
   "source": [
    "We will use 'k' as 10.\n",
    "That means there will be 10 samples created from the X_D1 dataset by sampling with replacement."
   ]
  },
  {
   "cell_type": "code",
   "execution_count": 9,
   "id": "f1f234fb",
   "metadata": {},
   "outputs": [
    {
     "name": "stdout",
     "output_type": "stream",
     "text": [
      "best C : 0.1\n"
     ]
    }
   ],
   "source": [
    "meta_model_hyperparam_tuning(X_D1,Y_D1,X_D2,Y_D2,10)"
   ]
  },
  {
   "cell_type": "markdown",
   "id": "7db4c77c",
   "metadata": {},
   "source": [
    "#### Custom Stacking classifier"
   ]
  },
  {
   "cell_type": "code",
   "execution_count": 24,
   "id": "c71083a6",
   "metadata": {},
   "outputs": [],
   "source": [
    "def stacking_classifier(X_D1,Y_D1,X_D2,Y_D2,k):\n",
    "    \n",
    "    X_samples_list,Y_samples_list = samples_from_D1(X_D1,Y_D1,k)\n",
    "    model_list = train_base_models(X_samples_list,Y_samples_list)\n",
    "    y_pred_list = prediction_from_base_models(model_list,X_D2)\n",
    "    \n",
    "    ## creating new dataset from 'k' predictions of D2\n",
    "    D_from_pred = np.array(y_pred_list).T\n",
    "    \n",
    "    # Training Meta Model \n",
    "    clf_meta = LogisticRegression(penalty='l2',C=0.1,class_weight='balanced')\n",
    "    clf_meta.fit(D_from_pred,Y_D2)\n",
    "    \n",
    "    return model_list,clf_meta\n"
   ]
  },
  {
   "cell_type": "code",
   "execution_count": 163,
   "id": "18aecd1a",
   "metadata": {},
   "outputs": [],
   "source": [
    "def stacking_classifier_predict(model_list,clf_meta,X_cv):\n",
    "        \n",
    "    ## passing the X_CV dataset through the 'k' base models and obtaining the 'k' predictions\n",
    "    y_pred_list_for_X_cv = prediction_from_base_models(model_list,X_cv)\n",
    "    \n",
    "    ## creating new dataset from the 'k' predcitions of X_CV  \n",
    "    D_from_pred_for_X_cv = np.array(y_pred_list_for_X_cv).T\n",
    "    \n",
    "    ## final predictions from the meta classifier\n",
    "    y_pred_final  = clf_meta.predict(D_from_pred_for_X_cv)\n",
    "    \n",
    "    return y_pred_final "
   ]
  },
  {
   "cell_type": "markdown",
   "id": "ea0fe0db",
   "metadata": {},
   "source": [
    "#### Model Evaluation for the custom stacking classifier"
   ]
  },
  {
   "cell_type": "code",
   "execution_count": 164,
   "id": "b7b8ea5c",
   "metadata": {
    "scrolled": true
   },
   "outputs": [
    {
     "name": "stdout",
     "output_type": "stream",
     "text": [
      "F-Beta score :  0.8010118043844856\n",
      "Total_cost   :  6960\n",
      "Percentage of misclassified points : 1.7166666666666668\n"
     ]
    },
    {
     "data": {
      "image/png": "[encoded data removed]",
      "text/plain": [
       "<Figure size 1440x360 with 6 Axes>"
      ]
     },
     "metadata": {
      "needs_background": "light"
     },
     "output_type": "display_data"
    }
   ],
   "source": [
    "#model_list,clf_meta = stacking_classifier(X_D1,Y_D1,X_D2,Y_D2,10)\n",
    "y_pred_final = stacking_classifier_predict(model_list,clf_meta,X_cv)\n",
    "\n",
    "Fbeta_final = F_Beta_score(Y_cv,y_pred_final)\n",
    "cost_final = Cost(Y_cv, y_pred_final)\n",
    "\n",
    "print('F-Beta score : ',Fbeta_final)\n",
    "print('Total_cost   : ',cost_final)\n",
    "matrix_heatmaps(Y_cv, y_pred_final)"
   ]
  },
  {
   "cell_type": "code",
   "execution_count": 177,
   "id": "b30a0fd7",
   "metadata": {},
   "outputs": [],
   "source": [
    "pickle.dump(clf_meta, open('models_2//stacking.pkl', 'wb'))\n",
    "\n",
    "pickle.dump(model_list[0], open('models_2//base_rf.pkl', 'wb'))\n",
    "pickle.dump(model_list[1], open('models_2//base_xgb.pkl', 'wb'))\n",
    "pickle.dump(model_list[2], open('models_2//base_svm.pkl', 'wb'))\n",
    "pickle.dump(model_list[3], open('models_2//base_lr.pkl', 'wb'))\n",
    "pickle.dump(model_list[4], open('models_2//base_knn.pkl', 'wb'))\n",
    "\n",
    "pickle.dump(model_list[5], open('models_2//base_rf_2.pkl', 'wb'))\n",
    "pickle.dump(model_list[6], open('models_2//base_xgb_2.pkl', 'wb'))\n",
    "pickle.dump(model_list[7], open('models_2//base_svm_2.pkl', 'wb'))\n",
    "pickle.dump(model_list[8], open('models_2//base_lr_2.pkl', 'wb'))\n",
    "pickle.dump(model_list[9], open('models_2//base_knn_2.pkl', 'wb'))"
   ]
  },
  {
   "cell_type": "code",
   "execution_count": null,
   "id": "496f212d",
   "metadata": {},
   "outputs": [],
   "source": [
    "# load the model from disk\n",
    "#clf_meta = pickle.load(open('models_2//stacking.pkl', 'rb'))"
   ]
  },
  {
   "cell_type": "markdown",
   "id": "ae48db88",
   "metadata": {},
   "source": [
    "## Observations"
   ]
  },
  {
   "cell_type": "markdown",
   "id": "f36bd478",
   "metadata": {},
   "source": [
    "- For the custom classifier model, we have used 10 base models where 5 different classifier models were used twice (Random Forest, XGBoost, Linear SVM and Logistic regression and KNN ). The predictions from these 10 base models was obtained. \n",
    "\n",
    "\n",
    "- Based on this, a new dataset was created and using this dataset a Meta classifier (logistic regression) model was trained.\n",
    " Then the C.V data was used for the evaluation process.\n",
    "\n",
    "\n",
    "- Initially the C.V data was passed through all the 10 base models and the predictions were obtained. From these 10 predictions, a dataset was created and this was passed through the Meta classifier model to get the final predictions. \n",
    "\n",
    "\n",
    "- Then using the final prediction and the targets for the C.V data, the model performance was calcualted.\n",
    "\n",
    "\n",
    "- From the evaluation of the model, we have obtained an F_Beta score of 0.807.\n",
    "\n",
    "\n",
    "- The total_cost obtained using the custom stacking classifier model is 7310, which is lower than the current lowest cost obtained by the Random Forst classifier model. Hence we could say that the model performance has been increased by using the custom classifier model"
   ]
  },
  {
   "cell_type": "code",
   "execution_count": null,
   "id": "36e90c24",
   "metadata": {},
   "outputs": [],
   "source": []
  }
 ],
 "metadata": {
  "kernelspec": {
   "display_name": "gpu2",
   "language": "python",
   "name": "gpu2"
  },
  "language_info": {
   "codemirror_mode": {
    "name": "ipython",
    "version": 3
   },
   "file_extension": ".py",
   "mimetype": "text/x-python",
   "name": "python",
   "nbconvert_exporter": "python",
   "pygments_lexer": "ipython3",
   "version": "3.6.13"
  }
 },
 "nbformat": 4,
 "nbformat_minor": 5
}
